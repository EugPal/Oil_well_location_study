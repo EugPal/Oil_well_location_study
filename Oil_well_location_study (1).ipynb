{
 "cells": [
  {
   "cell_type": "markdown",
   "metadata": {},
   "source": [
    "# Выбор локации для скважины"
   ]
  },
  {
   "cell_type": "markdown",
   "metadata": {},
   "source": [
    "# Описание проекта\n",
    "Нужно решить, где бурить новую скважину. \n",
    "Шаги для выбора локации обычно такие:\n",
    "- В избранном регионе собирают характеристики для скважин: качество нефти и объём её запасов;\n",
    "- Строят модель для предсказания объёма запасов в новых скважинах;\n",
    "- Выбирают скважины с самыми высокими оценками значений;\n",
    "- Определяют регион с максимальной суммарной прибылью отобранных скважин.\n",
    "\n",
    "Вам предоставлены пробы нефти в трёх регионах: в каждом 10 000 месторождений, где измерили качество нефти и объём её запасов. \n",
    "- Постройте модель машинного обучения, которая поможет определить регион, где добыча принесёт наибольшую прибыль. \n",
    "- Проанализируйте возможную прибыль и риски техникой *Bootstrap.*\n",
    "\n",
    "Шаги для выбора локации:\n",
    "\n",
    "- В избранном регионе ищут месторождения, для каждого определяют значения признаков;\n",
    "- Строят модель и оценивают объём запасов;\n",
    "- Выбирают месторождения с самым высокими оценками значений. Количество месторождений зависит от бюджета компании и стоимости разработки одной скважины;\n",
    "- Прибыль равна суммарной прибыли отобранных месторождений."
   ]
  },
  {
   "cell_type": "markdown",
   "metadata": {},
   "source": [
    "# Инструкция по выполнению проекта\n",
    "\n",
    "Загрузите и подготовьте данные. Поясните порядок действий.\n",
    "\n",
    "Обучите и проверьте модель для каждого региона:\n",
    "\n",
    "- 2.1. Разбейте данные на обучающую и валидационную выборки в соотношении 75:25.\n",
    "- 2.2. Обучите модель и сделайте предсказания на валидационной выборке.\n",
    "- 2.3. Сохраните предсказания и правильные ответы на валидационной выборке.\n",
    "- 2.4. Напечатайте на экране средний запас предсказанного сырья и RMSE модели.\n",
    "- 2.5. Проанализируйте результаты.\n",
    "\n",
    "Подготовьтесь к расчёту прибыли:\n",
    "\n",
    "- 3.1. Все ключевые значения для расчётов сохраните в отдельных переменных.\n",
    "- 3.2. Рассчитайте достаточный объём сырья для безубыточной разработки новой скважины. Сравните полученный объём сырья со средним запасом в каждом регионе. \n",
    "- 3.3. Напишите выводы по этапу подготовки расчёта прибыли.\n",
    "\n",
    "Напишите функцию для расчёта прибыли по выбранным скважинам и предсказаниям модели:\n",
    "- 4.1. Выберите скважины с максимальными значениями предсказаний.\n",
    "- 4.2. Просуммируйте целевое значение объёма сырья, соответствующее этим предсказаниям.\n",
    "- 4.3. Рассчитайте прибыль для полученного объёма сырья.\n",
    "\n",
    "Посчитайте риски и прибыль для каждого региона:\n",
    "- 5.1. Примените технику Bootstrap с 1000 выборок, чтобы найти распределение прибыли.\n",
    "- 5.2. Найдите среднюю прибыль, 95%-й доверительный интервал и риск убытков. Убыток — это отрицательная прибыль.\n",
    "- 5.3. Напишите выводы: предложите регион для разработки скважин и обоснуйте выбор."
   ]
  },
  {
   "cell_type": "markdown",
   "metadata": {},
   "source": [
    "# Описание данных\n",
    "Данные геологоразведки трёх регионов находятся в файлах: \n",
    "- /datasets/geo_data_0.csv\n",
    "- /datasets/geo_data_1.csv\n",
    "- /datasets/geo_data_2.csv\n",
    "\n",
    "\n",
    "- id — уникальный идентификатор скважины;\n",
    "- f0, f1, f2 — три признака точек (неважно, что они означают, но сами признаки значимы);\n",
    "- product — объём запасов в скважине (тыс. баррелей)."
   ]
  },
  {
   "cell_type": "markdown",
   "metadata": {},
   "source": [
    "# Условия задачи\n",
    "- Для обучения модели подходит только линейная регрессия (остальные — недостаточно предсказуемые).\n",
    "- При разведке региона исследуют 500 точек, из которых с помощью машинного обучения выбирают 200 лучших для разработки.\n",
    "- Бюджет на разработку скважин в регионе — 10 млрд рублей.\n",
    "- При нынешних ценах один баррель сырья приносит 450 рублей дохода. Доход с каждой единицы продукта составляет 450 тыс. рублей, поскольку объём указан в тысячах баррелей.\n",
    "- После оценки рисков нужно оставить лишь те регионы, в которых вероятность убытков меньше 2.5%. Среди них выбирают регион с наибольшей средней прибылью.\n",
    "- Данные синтетические: детали контрактов и характеристики месторождений не разглашаются.`"
   ]
  },
  {
   "cell_type": "markdown",
   "metadata": {},
   "source": [
    "## Загрузка и подготовка данных"
   ]
  },
  {
   "cell_type": "code",
   "execution_count": 1,
   "metadata": {},
   "outputs": [],
   "source": [
    "import pandas as pd\n",
    "from sklearn.model_selection import train_test_split\n",
    "from sklearn.linear_model import LinearRegression\n",
    "from sklearn.metrics import mean_squared_error\n",
    "from sklearn.metrics import accuracy_score\n",
    "from scipy import stats as st\n",
    "import numpy as np"
   ]
  },
  {
   "cell_type": "code",
   "execution_count": 2,
   "metadata": {},
   "outputs": [
    {
     "name": "stdout",
     "output_type": "stream",
     "text": [
      "<class 'pandas.core.frame.DataFrame'>\n",
      "RangeIndex: 100000 entries, 0 to 99999\n",
      "Data columns (total 5 columns):\n",
      " #   Column   Non-Null Count   Dtype  \n",
      "---  ------   --------------   -----  \n",
      " 0   id       100000 non-null  object \n",
      " 1   f0       100000 non-null  float64\n",
      " 2   f1       100000 non-null  float64\n",
      " 3   f2       100000 non-null  float64\n",
      " 4   product  100000 non-null  float64\n",
      "dtypes: float64(4), object(1)\n",
      "memory usage: 3.8+ MB\n"
     ]
    },
    {
     "data": {
      "text/html": [
       "<div>\n",
       "<style scoped>\n",
       "    .dataframe tbody tr th:only-of-type {\n",
       "        vertical-align: middle;\n",
       "    }\n",
       "\n",
       "    .dataframe tbody tr th {\n",
       "        vertical-align: top;\n",
       "    }\n",
       "\n",
       "    .dataframe thead th {\n",
       "        text-align: right;\n",
       "    }\n",
       "</style>\n",
       "<table border=\"1\" class=\"dataframe\">\n",
       "  <thead>\n",
       "    <tr style=\"text-align: right;\">\n",
       "      <th></th>\n",
       "      <th>id</th>\n",
       "      <th>f0</th>\n",
       "      <th>f1</th>\n",
       "      <th>f2</th>\n",
       "      <th>product</th>\n",
       "    </tr>\n",
       "  </thead>\n",
       "  <tbody>\n",
       "    <tr>\n",
       "      <th>0</th>\n",
       "      <td>txEyH</td>\n",
       "      <td>0.705745</td>\n",
       "      <td>-0.497823</td>\n",
       "      <td>1.221170</td>\n",
       "      <td>105.280062</td>\n",
       "    </tr>\n",
       "    <tr>\n",
       "      <th>1</th>\n",
       "      <td>2acmU</td>\n",
       "      <td>1.334711</td>\n",
       "      <td>-0.340164</td>\n",
       "      <td>4.365080</td>\n",
       "      <td>73.037750</td>\n",
       "    </tr>\n",
       "    <tr>\n",
       "      <th>2</th>\n",
       "      <td>409Wp</td>\n",
       "      <td>1.022732</td>\n",
       "      <td>0.151990</td>\n",
       "      <td>1.419926</td>\n",
       "      <td>85.265647</td>\n",
       "    </tr>\n",
       "    <tr>\n",
       "      <th>3</th>\n",
       "      <td>iJLyR</td>\n",
       "      <td>-0.032172</td>\n",
       "      <td>0.139033</td>\n",
       "      <td>2.978566</td>\n",
       "      <td>168.620776</td>\n",
       "    </tr>\n",
       "    <tr>\n",
       "      <th>4</th>\n",
       "      <td>Xdl7t</td>\n",
       "      <td>1.988431</td>\n",
       "      <td>0.155413</td>\n",
       "      <td>4.751769</td>\n",
       "      <td>154.036647</td>\n",
       "    </tr>\n",
       "  </tbody>\n",
       "</table>\n",
       "</div>"
      ],
      "text/plain": [
       "      id        f0        f1        f2     product\n",
       "0  txEyH  0.705745 -0.497823  1.221170  105.280062\n",
       "1  2acmU  1.334711 -0.340164  4.365080   73.037750\n",
       "2  409Wp  1.022732  0.151990  1.419926   85.265647\n",
       "3  iJLyR -0.032172  0.139033  2.978566  168.620776\n",
       "4  Xdl7t  1.988431  0.155413  4.751769  154.036647"
      ]
     },
     "execution_count": 2,
     "metadata": {},
     "output_type": "execute_result"
    }
   ],
   "source": [
    "data0 = pd.read_csv('/datasets/geo_data_0.csv')\n",
    "data0.info()\n",
    "data0.head()"
   ]
  },
  {
   "cell_type": "code",
   "execution_count": 3,
   "metadata": {},
   "outputs": [
    {
     "name": "stdout",
     "output_type": "stream",
     "text": [
      "<class 'pandas.core.frame.DataFrame'>\n",
      "RangeIndex: 100000 entries, 0 to 99999\n",
      "Data columns (total 5 columns):\n",
      " #   Column   Non-Null Count   Dtype  \n",
      "---  ------   --------------   -----  \n",
      " 0   id       100000 non-null  object \n",
      " 1   f0       100000 non-null  float64\n",
      " 2   f1       100000 non-null  float64\n",
      " 3   f2       100000 non-null  float64\n",
      " 4   product  100000 non-null  float64\n",
      "dtypes: float64(4), object(1)\n",
      "memory usage: 3.8+ MB\n"
     ]
    },
    {
     "data": {
      "text/html": [
       "<div>\n",
       "<style scoped>\n",
       "    .dataframe tbody tr th:only-of-type {\n",
       "        vertical-align: middle;\n",
       "    }\n",
       "\n",
       "    .dataframe tbody tr th {\n",
       "        vertical-align: top;\n",
       "    }\n",
       "\n",
       "    .dataframe thead th {\n",
       "        text-align: right;\n",
       "    }\n",
       "</style>\n",
       "<table border=\"1\" class=\"dataframe\">\n",
       "  <thead>\n",
       "    <tr style=\"text-align: right;\">\n",
       "      <th></th>\n",
       "      <th>id</th>\n",
       "      <th>f0</th>\n",
       "      <th>f1</th>\n",
       "      <th>f2</th>\n",
       "      <th>product</th>\n",
       "    </tr>\n",
       "  </thead>\n",
       "  <tbody>\n",
       "    <tr>\n",
       "      <th>0</th>\n",
       "      <td>kBEdx</td>\n",
       "      <td>-15.001348</td>\n",
       "      <td>-8.276000</td>\n",
       "      <td>-0.005876</td>\n",
       "      <td>3.179103</td>\n",
       "    </tr>\n",
       "    <tr>\n",
       "      <th>1</th>\n",
       "      <td>62mP7</td>\n",
       "      <td>14.272088</td>\n",
       "      <td>-3.475083</td>\n",
       "      <td>0.999183</td>\n",
       "      <td>26.953261</td>\n",
       "    </tr>\n",
       "    <tr>\n",
       "      <th>2</th>\n",
       "      <td>vyE1P</td>\n",
       "      <td>6.263187</td>\n",
       "      <td>-5.948386</td>\n",
       "      <td>5.001160</td>\n",
       "      <td>134.766305</td>\n",
       "    </tr>\n",
       "    <tr>\n",
       "      <th>3</th>\n",
       "      <td>KcrkZ</td>\n",
       "      <td>-13.081196</td>\n",
       "      <td>-11.506057</td>\n",
       "      <td>4.999415</td>\n",
       "      <td>137.945408</td>\n",
       "    </tr>\n",
       "    <tr>\n",
       "      <th>4</th>\n",
       "      <td>AHL4O</td>\n",
       "      <td>12.702195</td>\n",
       "      <td>-8.147433</td>\n",
       "      <td>5.004363</td>\n",
       "      <td>134.766305</td>\n",
       "    </tr>\n",
       "  </tbody>\n",
       "</table>\n",
       "</div>"
      ],
      "text/plain": [
       "      id         f0         f1        f2     product\n",
       "0  kBEdx -15.001348  -8.276000 -0.005876    3.179103\n",
       "1  62mP7  14.272088  -3.475083  0.999183   26.953261\n",
       "2  vyE1P   6.263187  -5.948386  5.001160  134.766305\n",
       "3  KcrkZ -13.081196 -11.506057  4.999415  137.945408\n",
       "4  AHL4O  12.702195  -8.147433  5.004363  134.766305"
      ]
     },
     "execution_count": 3,
     "metadata": {},
     "output_type": "execute_result"
    }
   ],
   "source": [
    "data1 = pd.read_csv('/datasets/geo_data_1.csv')\n",
    "data1.info()\n",
    "data1.head()"
   ]
  },
  {
   "cell_type": "code",
   "execution_count": 4,
   "metadata": {},
   "outputs": [
    {
     "name": "stdout",
     "output_type": "stream",
     "text": [
      "<class 'pandas.core.frame.DataFrame'>\n",
      "RangeIndex: 100000 entries, 0 to 99999\n",
      "Data columns (total 5 columns):\n",
      " #   Column   Non-Null Count   Dtype  \n",
      "---  ------   --------------   -----  \n",
      " 0   id       100000 non-null  object \n",
      " 1   f0       100000 non-null  float64\n",
      " 2   f1       100000 non-null  float64\n",
      " 3   f2       100000 non-null  float64\n",
      " 4   product  100000 non-null  float64\n",
      "dtypes: float64(4), object(1)\n",
      "memory usage: 3.8+ MB\n"
     ]
    },
    {
     "data": {
      "text/html": [
       "<div>\n",
       "<style scoped>\n",
       "    .dataframe tbody tr th:only-of-type {\n",
       "        vertical-align: middle;\n",
       "    }\n",
       "\n",
       "    .dataframe tbody tr th {\n",
       "        vertical-align: top;\n",
       "    }\n",
       "\n",
       "    .dataframe thead th {\n",
       "        text-align: right;\n",
       "    }\n",
       "</style>\n",
       "<table border=\"1\" class=\"dataframe\">\n",
       "  <thead>\n",
       "    <tr style=\"text-align: right;\">\n",
       "      <th></th>\n",
       "      <th>id</th>\n",
       "      <th>f0</th>\n",
       "      <th>f1</th>\n",
       "      <th>f2</th>\n",
       "      <th>product</th>\n",
       "    </tr>\n",
       "  </thead>\n",
       "  <tbody>\n",
       "    <tr>\n",
       "      <th>0</th>\n",
       "      <td>fwXo0</td>\n",
       "      <td>-1.146987</td>\n",
       "      <td>0.963328</td>\n",
       "      <td>-0.828965</td>\n",
       "      <td>27.758673</td>\n",
       "    </tr>\n",
       "    <tr>\n",
       "      <th>1</th>\n",
       "      <td>WJtFt</td>\n",
       "      <td>0.262778</td>\n",
       "      <td>0.269839</td>\n",
       "      <td>-2.530187</td>\n",
       "      <td>56.069697</td>\n",
       "    </tr>\n",
       "    <tr>\n",
       "      <th>2</th>\n",
       "      <td>ovLUW</td>\n",
       "      <td>0.194587</td>\n",
       "      <td>0.289035</td>\n",
       "      <td>-5.586433</td>\n",
       "      <td>62.871910</td>\n",
       "    </tr>\n",
       "    <tr>\n",
       "      <th>3</th>\n",
       "      <td>q6cA6</td>\n",
       "      <td>2.236060</td>\n",
       "      <td>-0.553760</td>\n",
       "      <td>0.930038</td>\n",
       "      <td>114.572842</td>\n",
       "    </tr>\n",
       "    <tr>\n",
       "      <th>4</th>\n",
       "      <td>WPMUX</td>\n",
       "      <td>-0.515993</td>\n",
       "      <td>1.716266</td>\n",
       "      <td>5.899011</td>\n",
       "      <td>149.600746</td>\n",
       "    </tr>\n",
       "  </tbody>\n",
       "</table>\n",
       "</div>"
      ],
      "text/plain": [
       "      id        f0        f1        f2     product\n",
       "0  fwXo0 -1.146987  0.963328 -0.828965   27.758673\n",
       "1  WJtFt  0.262778  0.269839 -2.530187   56.069697\n",
       "2  ovLUW  0.194587  0.289035 -5.586433   62.871910\n",
       "3  q6cA6  2.236060 -0.553760  0.930038  114.572842\n",
       "4  WPMUX -0.515993  1.716266  5.899011  149.600746"
      ]
     },
     "execution_count": 4,
     "metadata": {},
     "output_type": "execute_result"
    }
   ],
   "source": [
    "data2 = pd.read_csv('/datasets/geo_data_2.csv')\n",
    "data2.info()\n",
    "data2.head()"
   ]
  },
  {
   "cell_type": "markdown",
   "metadata": {},
   "source": [
    "# Зададим целевые признаки и разобьём данные на выборки"
   ]
  },
  {
   "cell_type": "code",
   "execution_count": 5,
   "metadata": {},
   "outputs": [],
   "source": [
    "# зададим целевые признаки \n",
    "target0 = data0['product']\n",
    "features0 = data0.drop(['product', 'id'], axis=1)\n",
    "# разобьём данные на выборки\n",
    "features_train0, features_valid0, target_train0, target_valid0 = train_test_split(\n",
    "    features0, target0, test_size=0.25, random_state=12345)"
   ]
  },
  {
   "cell_type": "code",
   "execution_count": 6,
   "metadata": {},
   "outputs": [],
   "source": [
    "target1 = data1['product']\n",
    "features1 = data1.drop(['product', 'id'], axis=1)\n",
    "features_train1, features_valid1, target_train1, target_valid1 = train_test_split(\n",
    "    features1, target1, test_size=0.25, random_state=12345)"
   ]
  },
  {
   "cell_type": "code",
   "execution_count": 7,
   "metadata": {},
   "outputs": [],
   "source": [
    "target2 = data2['product']\n",
    "features2 = data2.drop(['product', 'id'], axis=1)\n",
    "features_train2, features_valid2, target_train2, target_valid2 = train_test_split(\n",
    "    features2, target2, test_size=0.25, random_state=12345)"
   ]
  },
  {
   "cell_type": "markdown",
   "metadata": {},
   "source": [
    "## Обучение и проверка модели"
   ]
  },
  {
   "cell_type": "code",
   "execution_count": 8,
   "metadata": {},
   "outputs": [
    {
     "name": "stdout",
     "output_type": "stream",
     "text": [
      "RMSE: 37.5794217150813\n",
      "Среднее: 92.59256778438035\n"
     ]
    }
   ],
   "source": [
    "model0 = LinearRegression()\n",
    "model0.fit(features_train0, target_train0) \n",
    "predictions_valid0 = model0.predict(features_valid0)\n",
    "result0 = mean_squared_error(target_valid0, predictions_valid0, squared = False) \n",
    "print(\"RMSE:\", result0)\n",
    "print(\"Среднее:\", predictions_valid0.mean())"
   ]
  },
  {
   "cell_type": "code",
   "execution_count": 9,
   "metadata": {},
   "outputs": [
    {
     "name": "stdout",
     "output_type": "stream",
     "text": [
      "RMSE: 0.893099286775617\n",
      "Среднее: 68.728546895446\n"
     ]
    }
   ],
   "source": [
    "model1 = LinearRegression()\n",
    "model1.fit(features_train1, target_train1)\n",
    "predictions_valid1 = model1.predict(features_valid1)\n",
    "result1 = mean_squared_error(target_valid1, predictions_valid1, squared = False) \n",
    "print(\"RMSE:\", result1)\n",
    "print(\"Среднее:\", predictions_valid1.mean())"
   ]
  },
  {
   "cell_type": "code",
   "execution_count": 10,
   "metadata": {},
   "outputs": [
    {
     "name": "stdout",
     "output_type": "stream",
     "text": [
      "RMSE: 40.02970873393434\n",
      "Среднее: 94.96504596800489\n"
     ]
    }
   ],
   "source": [
    "model2 = LinearRegression()\n",
    "model2.fit(features_train2, target_train2)\n",
    "predictions_valid2 = model2.predict(features_valid2) \n",
    "result2 = mean_squared_error(target_valid2, predictions_valid2, squared = False)\n",
    "print(\"RMSE:\", result2)\n",
    "print(\"Среднее:\", predictions_valid2.mean())"
   ]
  },
  {
   "cell_type": "markdown",
   "metadata": {},
   "source": [
    "# Выводы:\n",
    "- наименьшими средними предсказанными запасами обладает 2 регион, при наименьшей ошибке\n",
    "- наибольшими средними предсказанными запасами обладает 3 регион, при наибольшей ошибке"
   ]
  },
  {
   "cell_type": "markdown",
   "metadata": {},
   "source": [
    "## Подготовка к расчёту прибыли"
   ]
  },
  {
   "cell_type": "code",
   "execution_count": 11,
   "metadata": {},
   "outputs": [],
   "source": [
    "# Переменные\n",
    "budget = 10000000000\n",
    "product_revenue = 450000\n",
    "barrel_revenue = 450\n",
    "wells_total = 500\n",
    "wells_selected = 200\n",
    "risk_level = 0.025"
   ]
  },
  {
   "cell_type": "code",
   "execution_count": 12,
   "metadata": {},
   "outputs": [
    {
     "name": "stdout",
     "output_type": "stream",
     "text": [
      "Минимальный необходимый уровень запасов в скважине для разработки: 111.1\n",
      "\n",
      "Оценка рентабельности регионов по средним запасам\n",
      "\n",
      "Запас сырья в регионе 1 меньше необходимого на 18.5\n",
      "Запас сырья в регионе 2 меньше необходимого на 42.4\n",
      "Запас сырья в регионе 3 меньше необходимого на 16.1\n"
     ]
    }
   ],
   "source": [
    "one_well_budget = budget/wells_selected\n",
    "\n",
    "one_well_product_need = one_well_budget/product_revenue\n",
    "print('Минимальный необходимый уровень запасов в скважине для разработки:',round(one_well_product_need,1))\n",
    "\n",
    "mean_oil_reserves=[predictions_valid0.mean(),predictions_valid1.mean(),predictions_valid2.mean()]\n",
    "print()\n",
    "print('Оценка рентабельности регионов по средним запасам')\n",
    "print()\n",
    "def reserves(mean_reserves):\n",
    "    for i in range(len(mean_oil_reserves)):\n",
    "        if mean_reserves[i] < one_well_product_need:\n",
    "            print(f'Запас сырья в регионе {i+1} меньше необходимого на {round(one_well_product_need - mean_oil_reserves[i], 1)}')\n",
    "        else:\n",
    "            print(f'Запас сырья в регионе {i+1} больше необходимого на {round(mean_oil_reserves[i] - one_well_product_need, 1)}')\n",
    "\n",
    "reserves(mean_oil_reserves)"
   ]
  },
  {
   "cell_type": "markdown",
   "metadata": {},
   "source": [
    "# Функция для расчёта прибыли по выбранным скважинам и предсказаниям модели:\n",
    "- 4.1. Выберите скважины с максимальными значениями предсказаний. \n",
    "- 4.2. Просуммируйте целевое значение объёма сырья, соответствующее этим предсказаниям.\n",
    "- 4.3. Рассчитайте прибыль для полученного объёма сырья."
   ]
  },
  {
   "cell_type": "code",
   "execution_count": 13,
   "metadata": {},
   "outputs": [],
   "source": [
    "def profit(target, predictions):\n",
    "    target = pd.Series(target).reset_index(drop=True)\n",
    "    predictions = pd.Series(predictions).reset_index(drop=True)\n",
    "    predictions_selection = predictions.sort_values(ascending=False)[:wells_selected].index\n",
    "    selection = target[predictions_selection]\n",
    "    profit = (selection.sum() * product_revenue) - budget\n",
    "    return round(profit, 1)"
   ]
  },
  {
   "cell_type": "code",
   "execution_count": 14,
   "metadata": {},
   "outputs": [
    {
     "name": "stdout",
     "output_type": "stream",
     "text": [
      "Прибыль в регионе 0: 3320826043.1\n"
     ]
    }
   ],
   "source": [
    "print('Прибыль в регионе 0:',profit(target_valid0, predictions_valid0))"
   ]
  },
  {
   "cell_type": "code",
   "execution_count": 15,
   "metadata": {},
   "outputs": [
    {
     "name": "stdout",
     "output_type": "stream",
     "text": [
      "Прибыль в регионе 1: 2415086696.7\n"
     ]
    }
   ],
   "source": [
    "print('Прибыль в регионе 1:',profit(target_valid1, predictions_valid1))"
   ]
  },
  {
   "cell_type": "code",
   "execution_count": 16,
   "metadata": {},
   "outputs": [
    {
     "name": "stdout",
     "output_type": "stream",
     "text": [
      "Прибыль в регионе 2: 2710349963.6\n"
     ]
    }
   ],
   "source": [
    "print('Прибыль в регионе 2:',profit(target_valid2, predictions_valid2))"
   ]
  },
  {
   "cell_type": "markdown",
   "metadata": {},
   "source": [
    "## Расчёт прибыли и рисков "
   ]
  },
  {
   "cell_type": "markdown",
   "metadata": {},
   "source": [
    "# Применим Bootstrap для выбора региона"
   ]
  },
  {
   "cell_type": "code",
   "execution_count": 17,
   "metadata": {},
   "outputs": [],
   "source": [
    "def bootstrap(target, probabilities, count, sample_size):\n",
    "    state = np.random.RandomState(12345)\n",
    "    values = []\n",
    "    for i in range(count):\n",
    "        target_subsample = target.sample(n=sample_size, random_state=state, replace=True)\n",
    "        probs_subsample = probabilities[target_subsample.index]\n",
    "        \n",
    "        values.append(profit(target_subsample, probs_subsample))\n",
    "\n",
    "    values = pd.Series(values)\n",
    "    mean = values.mean()\n",
    "    risk = (values < 0).mean()\n",
    "    \n",
    "    lower = values.quantile(0.025)\n",
    "    upper = values.quantile(0.975)\n",
    "    quantile_interval = (lower, upper)\n",
    "    return round(mean,1), round(risk*100, 1), quantile_interval"
   ]
  },
  {
   "cell_type": "markdown",
   "metadata": {},
   "source": [
    "# Регион 0"
   ]
  },
  {
   "cell_type": "code",
   "execution_count": 18,
   "metadata": {},
   "outputs": [
    {
     "name": "stdout",
     "output_type": "stream",
     "text": [
      "Средняя выручка =  396164984.8\n",
      "95 %ый доверительный интервал по квантилям =  (-111215545.89999999, 909766941.5049999)\n",
      "Риск убытков: 6.9%\n"
     ]
    }
   ],
   "source": [
    "mean0, risk0, interval0= bootstrap(target_valid0.reset_index(drop=True), predictions_valid0, 1000, 500)\n",
    "print('Средняя выручка = ', mean0)\n",
    "print('95 %ый доверительный интервал по квантилям = ', interval0)\n",
    "print(f'Риск убытков: {risk0}%')"
   ]
  },
  {
   "cell_type": "markdown",
   "metadata": {},
   "source": [
    "# Регион 1"
   ]
  },
  {
   "cell_type": "code",
   "execution_count": 19,
   "metadata": {},
   "outputs": [
    {
     "name": "stdout",
     "output_type": "stream",
     "text": [
      "Средняя выручка =  456045105.8\n",
      "95 %ый доверительный интервал по квантилям =  (33820509.38750001, 852289453.9024999)\n",
      "Риск убытков: 1.5%\n"
     ]
    }
   ],
   "source": [
    "mean1, risk1, interval1, = bootstrap(target_valid1.reset_index(drop=True), predictions_valid1, 1000, 500)\n",
    "print('Средняя выручка = ', mean1)\n",
    "print('95 %ый доверительный интервал по квантилям = ', interval1)\n",
    "print(f'Риск убытков: {risk1}%')"
   ]
  },
  {
   "cell_type": "markdown",
   "metadata": {},
   "source": [
    "# Регион 2"
   ]
  },
  {
   "cell_type": "code",
   "execution_count": 20,
   "metadata": {},
   "outputs": [
    {
     "name": "stdout",
     "output_type": "stream",
     "text": [
      "Средняя выручка =  404403866.6\n",
      "95 %ый доверительный интервал по квантилям =  (-163350413.355, 950359574.885)\n",
      "Риск убытков: 7.6%\n"
     ]
    }
   ],
   "source": [
    "mean2, risk2, interval2, = bootstrap(target_valid2.reset_index(drop=True), predictions_valid2, 1000, 500)\n",
    "print('Средняя выручка = ', mean2)\n",
    "print('95 %ый доверительный интервал по квантилям = ', interval2)\n",
    "print(f'Риск убытков: {risk2}%')"
   ]
  },
  {
   "cell_type": "markdown",
   "metadata": {},
   "source": [
    "# Вывод:\n",
    "- по результатам исследования, предпочтителен для разработки регион 1. в пользу этого говорят следующие параметры:\n",
    "- наибольшая средняя выручка\n",
    "- лучшие значения в пределах 95% доверительного интервала\n",
    "- наименьшие риски. к тому же этот регион единственный, в котором уровень рисков удовлетворяет условию задачи"
   ]
  },
  {
   "cell_type": "markdown",
   "metadata": {},
   "source": [
    "## Чек-лист готовности проекта"
   ]
  },
  {
   "cell_type": "markdown",
   "metadata": {},
   "source": [
    "- [x]  Jupyter Notebook открыт\n",
    "- [x]  Весь код выполняется без ошибок\n",
    "- [x]  Ячейки с кодом расположены в порядке исполнения\n",
    "- [x]  Выполнен шаг 1: данные подготовлены\n",
    "- [x]  Выполнен шаг 2: модели обучены и проверены\n",
    "    - [x]  Данные корректно разбиты на обучающую и валидационную выборки\n",
    "    - [x]  Модели обучены, предсказания сделаны\n",
    "    - [x]  Предсказания и правильные ответы на валидационной выборке сохранены\n",
    "    - [x]  На экране напечатаны результаты\n",
    "    - [x]  Сделаны выводы\n",
    "- [x]  Выполнен шаг 3: проведена подготовка к расчёту прибыли\n",
    "    - [x]  Для всех ключевых значений созданы константы Python\n",
    "    - [x]  Посчитано минимальное среднее количество продукта в месторождениях региона, достаточное для разработки\n",
    "    - [x]  По предыдущему пункту сделаны выводы\n",
    "    - [x]  Написана функция расчёта прибыли\n",
    "- [x]  Выполнен шаг 4: посчитаны риски и прибыль\n",
    "    - [x]  Проведена процедура *Bootstrap*\n",
    "    - [x]  Все параметры бутстрепа соответствуют условию\n",
    "    - [x]  Найдены все нужные величины\n",
    "    - [x]  Предложен регион для разработки месторождения\n",
    "    - [x]  Выбор региона обоснован"
   ]
  },
  {
   "cell_type": "code",
   "execution_count": null,
   "metadata": {},
   "outputs": [],
   "source": []
  }
 ],
 "metadata": {
  "ExecuteTimeLog": [
   {
    "duration": 1440,
    "start_time": "2023-05-07T09:23:17.411Z"
   },
   {
    "duration": 378,
    "start_time": "2023-05-07T09:23:18.852Z"
   },
   {
    "duration": 559,
    "start_time": "2023-05-07T09:23:20.519Z"
   },
   {
    "duration": 535,
    "start_time": "2023-05-07T09:23:21.595Z"
   },
   {
    "duration": 127,
    "start_time": "2023-05-07T09:26:22.161Z"
   },
   {
    "duration": 14,
    "start_time": "2023-05-07T09:29:59.537Z"
   },
   {
    "duration": 8,
    "start_time": "2023-05-07T09:30:08.772Z"
   },
   {
    "duration": 71,
    "start_time": "2023-05-07T09:38:37.126Z"
   },
   {
    "duration": 103,
    "start_time": "2023-05-07T09:38:45.004Z"
   },
   {
    "duration": 21,
    "start_time": "2023-05-07T09:38:51.396Z"
   },
   {
    "duration": 18,
    "start_time": "2023-05-07T09:39:44.991Z"
   },
   {
    "duration": 17,
    "start_time": "2023-05-07T09:40:22.361Z"
   },
   {
    "duration": 12,
    "start_time": "2023-05-07T09:41:16.406Z"
   },
   {
    "duration": 13,
    "start_time": "2023-05-07T09:41:17.081Z"
   },
   {
    "duration": 11,
    "start_time": "2023-05-07T09:41:17.575Z"
   },
   {
    "duration": 10,
    "start_time": "2023-05-07T09:42:40.311Z"
   },
   {
    "duration": 12,
    "start_time": "2023-05-07T09:44:36.068Z"
   },
   {
    "duration": 13,
    "start_time": "2023-05-07T09:44:59.050Z"
   },
   {
    "duration": 21,
    "start_time": "2023-05-07T09:45:55.870Z"
   },
   {
    "duration": 21,
    "start_time": "2023-05-07T09:46:21.268Z"
   },
   {
    "duration": 9,
    "start_time": "2023-05-07T09:49:43.318Z"
   },
   {
    "duration": 9,
    "start_time": "2023-05-07T09:51:02.640Z"
   },
   {
    "duration": 4,
    "start_time": "2023-05-07T09:52:08.621Z"
   },
   {
    "duration": 134,
    "start_time": "2023-05-07T09:52:09.127Z"
   },
   {
    "duration": 122,
    "start_time": "2023-05-07T09:52:09.722Z"
   },
   {
    "duration": 118,
    "start_time": "2023-05-07T09:52:13.411Z"
   },
   {
    "duration": 12,
    "start_time": "2023-05-07T09:52:15.775Z"
   },
   {
    "duration": 10,
    "start_time": "2023-05-07T09:52:16.797Z"
   },
   {
    "duration": 9,
    "start_time": "2023-05-07T09:52:17.842Z"
   },
   {
    "duration": 11,
    "start_time": "2023-05-07T09:52:18.302Z"
   },
   {
    "duration": 202,
    "start_time": "2023-05-07T09:52:21.786Z"
   },
   {
    "duration": 26,
    "start_time": "2023-05-07T09:52:42.555Z"
   },
   {
    "duration": 16,
    "start_time": "2023-05-07T09:53:09.199Z"
   },
   {
    "duration": 16,
    "start_time": "2023-05-07T09:53:18.525Z"
   },
   {
    "duration": 16,
    "start_time": "2023-05-07T09:53:24.434Z"
   },
   {
    "duration": 9,
    "start_time": "2023-05-07T09:55:30.727Z"
   },
   {
    "duration": 8,
    "start_time": "2023-05-07T09:55:53.866Z"
   },
   {
    "duration": 11,
    "start_time": "2023-05-07T09:55:55.929Z"
   },
   {
    "duration": 9,
    "start_time": "2023-05-07T09:56:01.493Z"
   },
   {
    "duration": 13,
    "start_time": "2023-05-07T10:04:05.893Z"
   },
   {
    "duration": 4,
    "start_time": "2023-05-07T10:04:16.761Z"
   },
   {
    "duration": 124,
    "start_time": "2023-05-07T10:04:17.223Z"
   },
   {
    "duration": 109,
    "start_time": "2023-05-07T10:04:17.742Z"
   },
   {
    "duration": 126,
    "start_time": "2023-05-07T10:04:18.439Z"
   },
   {
    "duration": 12,
    "start_time": "2023-05-07T10:04:19.273Z"
   },
   {
    "duration": 10,
    "start_time": "2023-05-07T10:04:20.265Z"
   },
   {
    "duration": 10,
    "start_time": "2023-05-07T10:04:20.785Z"
   },
   {
    "duration": 24,
    "start_time": "2023-05-07T10:04:21.814Z"
   },
   {
    "duration": 13,
    "start_time": "2023-05-07T10:04:49.882Z"
   },
   {
    "duration": 30,
    "start_time": "2023-05-07T10:04:52.922Z"
   },
   {
    "duration": 14,
    "start_time": "2023-05-07T10:05:05.687Z"
   },
   {
    "duration": 16,
    "start_time": "2023-05-07T10:05:07.959Z"
   },
   {
    "duration": 18,
    "start_time": "2023-05-07T10:06:46.354Z"
   },
   {
    "duration": 16,
    "start_time": "2023-05-07T10:06:47.566Z"
   },
   {
    "duration": 26,
    "start_time": "2023-05-07T10:07:09.454Z"
   },
   {
    "duration": 17,
    "start_time": "2023-05-07T10:07:16.802Z"
   },
   {
    "duration": 3,
    "start_time": "2023-05-07T10:17:48.004Z"
   },
   {
    "duration": 126,
    "start_time": "2023-05-07T10:17:48.205Z"
   },
   {
    "duration": 115,
    "start_time": "2023-05-07T10:17:48.409Z"
   },
   {
    "duration": 127,
    "start_time": "2023-05-07T10:17:48.603Z"
   },
   {
    "duration": 15,
    "start_time": "2023-05-07T10:17:48.801Z"
   },
   {
    "duration": 13,
    "start_time": "2023-05-07T10:17:49.000Z"
   },
   {
    "duration": 12,
    "start_time": "2023-05-07T10:17:49.174Z"
   },
   {
    "duration": 3,
    "start_time": "2023-05-07T10:18:12.889Z"
   },
   {
    "duration": 118,
    "start_time": "2023-05-07T10:18:13.151Z"
   },
   {
    "duration": 110,
    "start_time": "2023-05-07T10:18:13.446Z"
   },
   {
    "duration": 113,
    "start_time": "2023-05-07T10:18:13.792Z"
   },
   {
    "duration": 11,
    "start_time": "2023-05-07T10:18:14.667Z"
   },
   {
    "duration": 11,
    "start_time": "2023-05-07T10:18:15.518Z"
   },
   {
    "duration": 9,
    "start_time": "2023-05-07T10:18:15.909Z"
   },
   {
    "duration": 24,
    "start_time": "2023-05-07T10:18:16.412Z"
   },
   {
    "duration": 23,
    "start_time": "2023-05-07T10:18:17.391Z"
   },
   {
    "duration": 16,
    "start_time": "2023-05-07T10:18:17.944Z"
   },
   {
    "duration": 23,
    "start_time": "2023-05-07T10:21:23.982Z"
   },
   {
    "duration": 71,
    "start_time": "2023-05-07T10:21:47.602Z"
   },
   {
    "duration": 25,
    "start_time": "2023-05-07T10:22:05.283Z"
   },
   {
    "duration": 26,
    "start_time": "2023-05-07T10:24:05.918Z"
   },
   {
    "duration": 16,
    "start_time": "2023-05-07T10:25:15.285Z"
   },
   {
    "duration": 17,
    "start_time": "2023-05-07T10:25:15.622Z"
   },
   {
    "duration": 19,
    "start_time": "2023-05-07T10:25:15.962Z"
   },
   {
    "duration": 9,
    "start_time": "2023-05-07T10:27:15.998Z"
   },
   {
    "duration": 3,
    "start_time": "2023-05-07T10:27:21.536Z"
   },
   {
    "duration": 19,
    "start_time": "2023-05-07T10:27:27.945Z"
   },
   {
    "duration": 3,
    "start_time": "2023-05-07T10:27:29.171Z"
   },
   {
    "duration": 24,
    "start_time": "2023-05-07T10:27:35.978Z"
   },
   {
    "duration": 17,
    "start_time": "2023-05-07T10:28:24.076Z"
   },
   {
    "duration": 17,
    "start_time": "2023-05-07T10:28:40.748Z"
   },
   {
    "duration": 8,
    "start_time": "2023-05-07T10:33:38.982Z"
   },
   {
    "duration": 22,
    "start_time": "2023-05-07T10:54:13.092Z"
   },
   {
    "duration": 21,
    "start_time": "2023-05-07T10:54:13.667Z"
   },
   {
    "duration": 23,
    "start_time": "2023-05-07T10:54:14.385Z"
   },
   {
    "duration": 17,
    "start_time": "2023-05-07T10:54:56.643Z"
   },
   {
    "duration": 17,
    "start_time": "2023-05-07T10:54:57.256Z"
   },
   {
    "duration": 17,
    "start_time": "2023-05-07T10:54:57.837Z"
   },
   {
    "duration": 5,
    "start_time": "2023-05-07T11:06:47.692Z"
   },
   {
    "duration": 21,
    "start_time": "2023-05-07T11:06:55.610Z"
   },
   {
    "duration": 5,
    "start_time": "2023-05-07T11:06:58.144Z"
   },
   {
    "duration": 22,
    "start_time": "2023-05-07T11:10:07.618Z"
   },
   {
    "duration": 17,
    "start_time": "2023-05-07T11:10:08.204Z"
   },
   {
    "duration": 17,
    "start_time": "2023-05-07T11:10:08.581Z"
   },
   {
    "duration": 2,
    "start_time": "2023-05-07T11:13:00.195Z"
   },
   {
    "duration": 3,
    "start_time": "2023-05-07T11:13:08.886Z"
   },
   {
    "duration": 4,
    "start_time": "2023-05-07T11:14:05.090Z"
   },
   {
    "duration": 9,
    "start_time": "2023-05-07T11:44:19.361Z"
   },
   {
    "duration": 3,
    "start_time": "2023-05-07T11:44:33.201Z"
   },
   {
    "duration": 32,
    "start_time": "2023-05-07T11:44:40.832Z"
   },
   {
    "duration": 37,
    "start_time": "2023-05-07T11:45:36.600Z"
   },
   {
    "duration": 59,
    "start_time": "2023-05-07T12:19:35.619Z"
   },
   {
    "duration": 3,
    "start_time": "2023-05-07T12:29:57.824Z"
   },
   {
    "duration": 15,
    "start_time": "2023-05-07T12:35:16.852Z"
   },
   {
    "duration": 65,
    "start_time": "2023-05-07T12:36:52.527Z"
   },
   {
    "duration": 20,
    "start_time": "2023-05-07T12:40:09.772Z"
   },
   {
    "duration": 13,
    "start_time": "2023-05-07T12:40:22.468Z"
   },
   {
    "duration": 3,
    "start_time": "2023-05-07T12:40:53.059Z"
   },
   {
    "duration": 25,
    "start_time": "2023-05-07T12:40:55.073Z"
   },
   {
    "duration": 9,
    "start_time": "2023-05-07T12:48:59.544Z"
   },
   {
    "duration": 12,
    "start_time": "2023-05-07T12:49:11.211Z"
   },
   {
    "duration": 14,
    "start_time": "2023-05-07T12:49:55.351Z"
   },
   {
    "duration": 13,
    "start_time": "2023-05-07T12:50:00.640Z"
   },
   {
    "duration": 13,
    "start_time": "2023-05-07T12:50:46.420Z"
   },
   {
    "duration": 14,
    "start_time": "2023-05-07T12:50:54.062Z"
   },
   {
    "duration": 19,
    "start_time": "2023-05-07T12:51:11.442Z"
   },
   {
    "duration": 14,
    "start_time": "2023-05-07T12:51:36.627Z"
   },
   {
    "duration": 3,
    "start_time": "2023-05-07T12:51:37.319Z"
   },
   {
    "duration": 21,
    "start_time": "2023-05-07T12:51:38.672Z"
   },
   {
    "duration": 75,
    "start_time": "2023-05-07T13:05:27.966Z"
   },
   {
    "duration": 19,
    "start_time": "2023-05-07T13:05:34.290Z"
   },
   {
    "duration": 15,
    "start_time": "2023-05-07T13:06:37.449Z"
   },
   {
    "duration": 2,
    "start_time": "2023-05-07T13:06:38.491Z"
   },
   {
    "duration": 11,
    "start_time": "2023-05-07T13:06:39.469Z"
   },
   {
    "duration": 21,
    "start_time": "2023-05-07T13:07:11.168Z"
   },
   {
    "duration": 33,
    "start_time": "2023-05-07T13:07:17.087Z"
   },
   {
    "duration": 36,
    "start_time": "2023-05-07T13:07:25.918Z"
   },
   {
    "duration": 15,
    "start_time": "2023-05-07T13:09:23.943Z"
   },
   {
    "duration": 3,
    "start_time": "2023-05-07T13:09:26.466Z"
   },
   {
    "duration": 22,
    "start_time": "2023-05-07T13:09:26.983Z"
   },
   {
    "duration": 3,
    "start_time": "2023-05-07T13:10:01.360Z"
   },
   {
    "duration": 4,
    "start_time": "2023-05-07T13:10:21.895Z"
   },
   {
    "duration": 19,
    "start_time": "2023-05-07T13:10:22.602Z"
   },
   {
    "duration": 2,
    "start_time": "2023-05-07T13:11:50.592Z"
   },
   {
    "duration": 16,
    "start_time": "2023-05-07T13:11:53.031Z"
   },
   {
    "duration": 3,
    "start_time": "2023-05-07T13:11:53.948Z"
   },
   {
    "duration": 18,
    "start_time": "2023-05-07T13:11:54.612Z"
   },
   {
    "duration": 15,
    "start_time": "2023-05-07T13:12:53.809Z"
   },
   {
    "duration": 18,
    "start_time": "2023-05-07T13:13:48.870Z"
   },
   {
    "duration": 19,
    "start_time": "2023-05-07T13:13:57.199Z"
   },
   {
    "duration": 4,
    "start_time": "2023-05-07T13:15:03.838Z"
   },
   {
    "duration": 18,
    "start_time": "2023-05-07T13:15:04.445Z"
   },
   {
    "duration": 28,
    "start_time": "2023-05-07T13:15:15.360Z"
   },
   {
    "duration": 125,
    "start_time": "2023-05-07T13:27:59.117Z"
   },
   {
    "duration": 133,
    "start_time": "2023-05-07T13:28:04.703Z"
   },
   {
    "duration": 128,
    "start_time": "2023-05-07T13:28:11.994Z"
   },
   {
    "duration": 129,
    "start_time": "2023-05-07T13:28:15.774Z"
   },
   {
    "duration": 14,
    "start_time": "2023-05-07T13:38:19.792Z"
   },
   {
    "duration": 13,
    "start_time": "2023-05-07T13:38:20.286Z"
   },
   {
    "duration": 12,
    "start_time": "2023-05-07T13:38:20.709Z"
   },
   {
    "duration": 26,
    "start_time": "2023-05-07T13:38:21.645Z"
   },
   {
    "duration": 22,
    "start_time": "2023-05-07T13:38:22.244Z"
   },
   {
    "duration": 18,
    "start_time": "2023-05-07T13:38:25.440Z"
   },
   {
    "duration": 10,
    "start_time": "2023-05-07T13:47:11.646Z"
   },
   {
    "duration": 8,
    "start_time": "2023-05-07T13:47:49.664Z"
   },
   {
    "duration": 2,
    "start_time": "2023-05-07T13:47:53.601Z"
   },
   {
    "duration": 11,
    "start_time": "2023-05-07T13:47:54.200Z"
   },
   {
    "duration": 10,
    "start_time": "2023-05-07T13:48:08.955Z"
   },
   {
    "duration": 5,
    "start_time": "2023-05-07T13:48:20.049Z"
   },
   {
    "duration": 4,
    "start_time": "2023-05-07T13:52:21.210Z"
   },
   {
    "duration": 8,
    "start_time": "2023-05-07T13:53:35.440Z"
   },
   {
    "duration": 6,
    "start_time": "2023-05-07T13:53:41.741Z"
   },
   {
    "duration": 8,
    "start_time": "2023-05-07T13:53:48.164Z"
   },
   {
    "duration": 8,
    "start_time": "2023-05-07T13:54:24.136Z"
   },
   {
    "duration": 7,
    "start_time": "2023-05-07T13:54:24.677Z"
   },
   {
    "duration": 8,
    "start_time": "2023-05-07T13:54:25.164Z"
   },
   {
    "duration": 5,
    "start_time": "2023-05-07T13:58:05.121Z"
   },
   {
    "duration": 9,
    "start_time": "2023-05-07T13:58:06.562Z"
   },
   {
    "duration": 9,
    "start_time": "2023-05-07T13:58:50.557Z"
   },
   {
    "duration": 822,
    "start_time": "2023-05-07T13:59:05.535Z"
   },
   {
    "duration": 5,
    "start_time": "2023-05-07T14:05:03.272Z"
   },
   {
    "duration": 709,
    "start_time": "2023-05-07T14:05:04.490Z"
   },
   {
    "duration": 705,
    "start_time": "2023-05-07T14:05:31.297Z"
   },
   {
    "duration": 717,
    "start_time": "2023-05-07T14:10:46.118Z"
   },
   {
    "duration": 5,
    "start_time": "2023-05-07T14:10:50.343Z"
   },
   {
    "duration": 690,
    "start_time": "2023-05-07T14:10:51.639Z"
   },
   {
    "duration": 710,
    "start_time": "2023-05-07T14:12:12.869Z"
   },
   {
    "duration": 702,
    "start_time": "2023-05-07T14:12:19.695Z"
   },
   {
    "duration": 695,
    "start_time": "2023-05-07T14:13:04.378Z"
   },
   {
    "duration": 990,
    "start_time": "2023-05-07T14:24:54.618Z"
   },
   {
    "duration": 156,
    "start_time": "2023-05-07T14:24:55.610Z"
   },
   {
    "duration": 125,
    "start_time": "2023-05-07T14:24:55.768Z"
   },
   {
    "duration": 136,
    "start_time": "2023-05-07T14:24:55.894Z"
   },
   {
    "duration": 17,
    "start_time": "2023-05-07T14:24:56.032Z"
   },
   {
    "duration": 29,
    "start_time": "2023-05-07T14:24:56.051Z"
   },
   {
    "duration": 38,
    "start_time": "2023-05-07T14:24:56.082Z"
   },
   {
    "duration": 56,
    "start_time": "2023-05-07T14:24:56.121Z"
   },
   {
    "duration": 113,
    "start_time": "2023-05-07T14:24:56.178Z"
   },
   {
    "duration": 183,
    "start_time": "2023-05-07T14:24:56.294Z"
   },
   {
    "duration": 9,
    "start_time": "2023-05-07T14:24:56.479Z"
   },
   {
    "duration": 87,
    "start_time": "2023-05-07T14:24:56.490Z"
   },
   {
    "duration": 94,
    "start_time": "2023-05-07T14:24:56.578Z"
   },
   {
    "duration": 7,
    "start_time": "2023-05-07T14:24:56.674Z"
   },
   {
    "duration": 9,
    "start_time": "2023-05-07T14:24:56.682Z"
   },
   {
    "duration": 6,
    "start_time": "2023-05-07T14:24:56.692Z"
   },
   {
    "duration": 4,
    "start_time": "2023-05-07T14:24:56.699Z"
   },
   {
    "duration": 814,
    "start_time": "2023-05-07T14:24:56.705Z"
   },
   {
    "duration": 0,
    "start_time": "2023-05-07T14:24:57.520Z"
   },
   {
    "duration": 0,
    "start_time": "2023-05-07T14:24:57.522Z"
   },
   {
    "duration": 1063,
    "start_time": "2023-05-07T14:25:31.786Z"
   },
   {
    "duration": 158,
    "start_time": "2023-05-07T14:25:32.852Z"
   },
   {
    "duration": 134,
    "start_time": "2023-05-07T14:25:33.014Z"
   },
   {
    "duration": 127,
    "start_time": "2023-05-07T14:25:33.150Z"
   },
   {
    "duration": 13,
    "start_time": "2023-05-07T14:25:33.279Z"
   },
   {
    "duration": 21,
    "start_time": "2023-05-07T14:25:33.293Z"
   },
   {
    "duration": 26,
    "start_time": "2023-05-07T14:25:33.316Z"
   },
   {
    "duration": 41,
    "start_time": "2023-05-07T14:25:33.344Z"
   },
   {
    "duration": 197,
    "start_time": "2023-05-07T14:25:33.386Z"
   },
   {
    "duration": 202,
    "start_time": "2023-05-07T14:25:33.585Z"
   },
   {
    "duration": 6,
    "start_time": "2023-05-07T14:25:33.873Z"
   },
   {
    "duration": 97,
    "start_time": "2023-05-07T14:25:33.884Z"
   },
   {
    "duration": 10,
    "start_time": "2023-05-07T14:25:33.982Z"
   },
   {
    "duration": 18,
    "start_time": "2023-05-07T14:25:33.995Z"
   },
   {
    "duration": 17,
    "start_time": "2023-05-07T14:25:34.014Z"
   },
   {
    "duration": 27,
    "start_time": "2023-05-07T14:25:34.032Z"
   },
   {
    "duration": 4,
    "start_time": "2023-05-07T14:25:34.061Z"
   },
   {
    "duration": 895,
    "start_time": "2023-05-07T14:25:34.067Z"
   },
   {
    "duration": 0,
    "start_time": "2023-05-07T14:25:34.963Z"
   },
   {
    "duration": 0,
    "start_time": "2023-05-07T14:25:34.965Z"
   },
   {
    "duration": 707,
    "start_time": "2023-05-07T14:26:24.969Z"
   },
   {
    "duration": 754,
    "start_time": "2023-05-07T14:26:25.996Z"
   },
   {
    "duration": 682,
    "start_time": "2023-05-07T14:26:27.305Z"
   },
   {
    "duration": 1008,
    "start_time": "2023-05-07T14:29:19.899Z"
   },
   {
    "duration": 135,
    "start_time": "2023-05-07T14:29:20.908Z"
   },
   {
    "duration": 122,
    "start_time": "2023-05-07T14:29:21.045Z"
   },
   {
    "duration": 117,
    "start_time": "2023-05-07T14:29:21.169Z"
   },
   {
    "duration": 11,
    "start_time": "2023-05-07T14:29:21.288Z"
   },
   {
    "duration": 25,
    "start_time": "2023-05-07T14:29:21.300Z"
   },
   {
    "duration": 30,
    "start_time": "2023-05-07T14:29:21.326Z"
   },
   {
    "duration": 114,
    "start_time": "2023-05-07T14:29:21.357Z"
   },
   {
    "duration": 200,
    "start_time": "2023-05-07T14:29:21.473Z"
   },
   {
    "duration": 114,
    "start_time": "2023-05-07T14:29:21.677Z"
   },
   {
    "duration": 183,
    "start_time": "2023-05-07T14:29:21.793Z"
   },
   {
    "duration": 39,
    "start_time": "2023-05-07T14:29:21.977Z"
   },
   {
    "duration": 19,
    "start_time": "2023-05-07T14:29:22.017Z"
   },
   {
    "duration": 71,
    "start_time": "2023-05-07T14:29:22.038Z"
   },
   {
    "duration": 71,
    "start_time": "2023-05-07T14:29:22.111Z"
   },
   {
    "duration": 32,
    "start_time": "2023-05-07T14:29:22.184Z"
   },
   {
    "duration": 27,
    "start_time": "2023-05-07T14:29:22.217Z"
   },
   {
    "duration": 752,
    "start_time": "2023-05-07T14:29:22.245Z"
   },
   {
    "duration": 698,
    "start_time": "2023-05-07T14:29:22.998Z"
   },
   {
    "duration": 694,
    "start_time": "2023-05-07T14:29:23.697Z"
   },
   {
    "duration": 1364,
    "start_time": "2023-05-07T17:26:12.889Z"
   },
   {
    "duration": 420,
    "start_time": "2023-05-07T17:26:14.254Z"
   },
   {
    "duration": 978,
    "start_time": "2023-05-07T17:26:14.892Z"
   },
   {
    "duration": 587,
    "start_time": "2023-05-07T17:26:15.872Z"
   },
   {
    "duration": 16,
    "start_time": "2023-05-07T17:27:16.549Z"
   },
   {
    "duration": 20,
    "start_time": "2023-05-07T17:27:17.189Z"
   },
   {
    "duration": 17,
    "start_time": "2023-05-07T17:27:17.332Z"
   },
   {
    "duration": 30,
    "start_time": "2023-05-07T17:28:02.351Z"
   },
   {
    "duration": 30,
    "start_time": "2023-05-07T17:28:55.350Z"
   },
   {
    "duration": 67,
    "start_time": "2023-05-07T17:28:56.053Z"
   },
   {
    "duration": 3,
    "start_time": "2023-05-07T17:29:14.992Z"
   },
   {
    "duration": 7,
    "start_time": "2023-05-07T17:30:05.892Z"
   },
   {
    "duration": 4,
    "start_time": "2023-05-07T17:31:38.613Z"
   },
   {
    "duration": 8,
    "start_time": "2023-05-07T17:32:04.792Z"
   },
   {
    "duration": 8,
    "start_time": "2023-05-07T17:32:05.252Z"
   },
   {
    "duration": 9,
    "start_time": "2023-05-07T17:32:05.652Z"
   },
   {
    "duration": 6,
    "start_time": "2023-05-07T17:32:25.532Z"
   },
   {
    "duration": 1027,
    "start_time": "2023-05-07T17:32:42.652Z"
   },
   {
    "duration": 974,
    "start_time": "2023-05-07T17:33:16.612Z"
   },
   {
    "duration": 1043,
    "start_time": "2023-05-07T17:33:22.172Z"
   },
   {
    "duration": 1149,
    "start_time": "2023-05-08T08:12:13.255Z"
   },
   {
    "duration": 826,
    "start_time": "2023-05-08T08:12:14.406Z"
   },
   {
    "duration": 1326,
    "start_time": "2023-05-08T08:12:15.238Z"
   },
   {
    "duration": 767,
    "start_time": "2023-05-08T08:12:16.565Z"
   },
   {
    "duration": 21,
    "start_time": "2023-05-08T08:12:17.335Z"
   },
   {
    "duration": 40,
    "start_time": "2023-05-08T08:12:17.360Z"
   },
   {
    "duration": 66,
    "start_time": "2023-05-08T08:12:17.402Z"
   },
   {
    "duration": 22,
    "start_time": "2023-05-08T08:12:17.470Z"
   },
   {
    "duration": 119,
    "start_time": "2023-05-08T08:12:17.528Z"
   },
   {
    "duration": 174,
    "start_time": "2023-05-08T08:12:17.650Z"
   },
   {
    "duration": 131,
    "start_time": "2023-05-08T08:12:17.832Z"
   },
   {
    "duration": 19,
    "start_time": "2023-05-08T08:12:17.965Z"
   },
   {
    "duration": 20,
    "start_time": "2023-05-08T08:12:17.986Z"
   },
   {
    "duration": 53,
    "start_time": "2023-05-08T08:12:18.009Z"
   },
   {
    "duration": 14,
    "start_time": "2023-05-08T08:12:18.064Z"
   },
   {
    "duration": 28,
    "start_time": "2023-05-08T08:12:18.080Z"
   },
   {
    "duration": 53,
    "start_time": "2023-05-08T08:12:18.109Z"
   },
   {
    "duration": 1112,
    "start_time": "2023-05-08T08:12:18.163Z"
   },
   {
    "duration": 1089,
    "start_time": "2023-05-08T08:12:19.277Z"
   },
   {
    "duration": 1090,
    "start_time": "2023-05-08T08:12:20.370Z"
   },
   {
    "duration": 149,
    "start_time": "2023-05-08T08:14:53.356Z"
   },
   {
    "duration": 112,
    "start_time": "2023-05-08T08:17:30.145Z"
   }
  ],
  "kernelspec": {
   "display_name": "Python 3 (ipykernel)",
   "language": "python",
   "name": "python3"
  },
  "language_info": {
   "codemirror_mode": {
    "name": "ipython",
    "version": 3
   },
   "file_extension": ".py",
   "mimetype": "text/x-python",
   "name": "python",
   "nbconvert_exporter": "python",
   "pygments_lexer": "ipython3",
   "version": "3.9.5"
  },
  "toc": {
   "base_numbering": 1,
   "nav_menu": {},
   "number_sections": true,
   "sideBar": true,
   "skip_h1_title": true,
   "title_cell": "Table of Contents",
   "title_sidebar": "Contents",
   "toc_cell": false,
   "toc_position": {
    "height": "calc(100% - 180px)",
    "left": "10px",
    "top": "150px",
    "width": "293px"
   },
   "toc_section_display": true,
   "toc_window_display": true
  }
 },
 "nbformat": 4,
 "nbformat_minor": 4
}
